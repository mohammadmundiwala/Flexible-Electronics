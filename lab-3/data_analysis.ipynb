{
 "cells": [
  {
   "cell_type": "markdown",
   "id": "986c8830",
   "metadata": {},
   "source": [
    "Going through experimental data collected in lab using different material substrates and coatings \n",
    " used for soft neural interface device\n",
    "with Ben Rees\n",
    "\n",
    "--------------------"
   ]
  },
  {
   "cell_type": "code",
   "execution_count": 1,
   "id": "305c285f",
   "metadata": {},
   "outputs": [],
   "source": [
    "import pandas as pd\n",
    "import numpy as np\n",
    "import matplotlib.pyplot as plt"
   ]
  },
  {
   "cell_type": "markdown",
   "id": "c883c594",
   "metadata": {},
   "source": [
    "1. Test bulk substrates (PI, silicone, kirigami PI). Plot engineering stress–strain curves to failure at a\n",
    "fixed displacement rate and compare mechanical properties. Include elongation limit, elastic modulus,\n",
    "tensile strength, and toughness."
   ]
  },
  {
   "cell_type": "markdown",
   "id": "c27a4aaf",
   "metadata": {},
   "source": [
    "**sample info**\n",
    "|           Sample Name          | Sample Width (mm) | Sample Thickness (µm) | Original Length (mm) | Original Extension (µm) |\n",
    "|:------------------------------:|:-----------------:|:---------------------:|:--------------------:|:-----------------------:|\n",
    "|            Polyimide           |       5.175       |           15          |          19          |           53.8          |\n",
    "|           PI Kirigami          |                   |          25.4         |         23.79        |           4838          |\n",
    "|              PDMS              |        5.6        |         1024.5        |         22.38        |          3588.7         |\n",
    "| SiC 2 µm on 15 µm PI (N0018-2) |      4.96625      |           17          |        21.195        |           46.1          |\n",
    "|  SiC 1 µm on 15 µm PI (NM5-1)  |       4.8575      |           16          |        21.395        |           31.7          |"
   ]
  },
  {
   "cell_type": "code",
   "execution_count": null,
   "id": "02afdf9b",
   "metadata": {},
   "outputs": [],
   "source": []
  },
  {
   "cell_type": "markdown",
   "id": "1526bd3d",
   "metadata": {},
   "source": [
    "2. Test bilayer films (SiC on PI). Compare the stress–strain behavior to that of the bulk PI substrate. Estimate the coating (SiC) modulus and compare it with literature values for the encapsulation material. If errors occur in extracting the coating modulus, briefly explain likely causes."
   ]
  },
  {
   "cell_type": "code",
   "execution_count": null,
   "id": "f5e2b0b1",
   "metadata": {},
   "outputs": [],
   "source": []
  },
  {
   "cell_type": "markdown",
   "id": "53fa725a",
   "metadata": {},
   "source": [
    "3. Cracking analysis from recordings (SiC on PI): Include image arrays from the recording files at 0% strain and Stages I, II, III. Calculate and report crack-onset strain, εc, critical energy release rate, Gc, crack density at saturation CDsat, critical stress-transfer length lc, and interfacial shear strength (IFSS). Compare the adhesion level with other film-substrate interface materials."
   ]
  },
  {
   "cell_type": "code",
   "execution_count": null,
   "id": "ab1bb016",
   "metadata": {},
   "outputs": [],
   "source": []
  },
  {
   "cell_type": "markdown",
   "id": "320d7f73",
   "metadata": {},
   "source": [
    "4. Nanocomposite comparison [no test; please use files provided]: Review the recordings for MMT nanoclay-PVA nanocomposites on PET. Describe how their crack evolution differs from SiC on PI. Show Stages I–III. If the stages are not clearly distinguishable, discuss possible reasons."
   ]
  },
  {
   "cell_type": "code",
   "execution_count": null,
   "id": "54865a23",
   "metadata": {},
   "outputs": [],
   "source": []
  },
  {
   "cell_type": "markdown",
   "id": "e5b19fad",
   "metadata": {},
   "source": []
  }
 ],
 "metadata": {
  "kernelspec": {
   "display_name": "general_venv",
   "language": "python",
   "name": "python3"
  },
  "language_info": {
   "codemirror_mode": {
    "name": "ipython",
    "version": 3
   },
   "file_extension": ".py",
   "mimetype": "text/x-python",
   "name": "python",
   "nbconvert_exporter": "python",
   "pygments_lexer": "ipython3",
   "version": "3.13.1"
  }
 },
 "nbformat": 4,
 "nbformat_minor": 5
}
